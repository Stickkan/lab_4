{
 "cells": [
  {
   "cell_type": "code",
   "execution_count": 2,
   "metadata": {},
   "outputs": [
    {
     "name": "stdout",
     "output_type": "stream",
     "text": [
      "{'A': {'B': 2, 'E': 2, 'W': 1}, 'B': {'D': 5, 'W': 4, 'C': 2, 'F': 3}, 'C': {'F': 7, 'V': 9}, 'D': {'E': 1, 'J': 7}, 'E': {'K': 3}, 'F': {'L': 2, 'M': 7, 'R': 3, 'Y': 1}, 'G': {'K': 8, 'J': 5, 'H': 2}, 'H': {'I': 4, 'P': 1}, 'I': {'K': 5}, 'J': {'O': 3, 'L': 2}, 'L': {'N': 4}, 'M': {'N': 5, 'Z': 3, 'X': 1}, 'N': {'O': 1}, 'O': {'P': 1}, 'R': {'S': 4}, 'S': {'V': 2}, 'X': {'Z': 2}, 'Y': {'X': 5}, 'Z': {'N': 6}}\n"
     ]
    },
    {
     "ename": "KeyError",
     "evalue": "'W'",
     "output_type": "error",
     "traceback": [
      "\u001b[1;31m---------------------------------------------------------------------------\u001b[0m",
      "\u001b[1;31mKeyError\u001b[0m                                  Traceback (most recent call last)",
      "Cell \u001b[1;32mIn[2], line 72\u001b[0m\n\u001b[0;32m     67\u001b[0m   \u001b[39mprint\u001b[39m(\u001b[39mf\u001b[39m\u001b[39m\"\u001b[39m\u001b[39mDistance: \u001b[39m\u001b[39m{\u001b[39;00mdistances[destination]\u001b[39m}\u001b[39;00m\u001b[39m\"\u001b[39m)\n\u001b[0;32m     71\u001b[0m \u001b[39mif\u001b[39;00m \u001b[39m__name__\u001b[39m \u001b[39m==\u001b[39m \u001b[39m\"\u001b[39m\u001b[39m__main__\u001b[39m\u001b[39m\"\u001b[39m:\n\u001b[1;32m---> 72\u001b[0m   main()\n",
      "Cell \u001b[1;32mIn[2], line 56\u001b[0m, in \u001b[0;36mmain\u001b[1;34m()\u001b[0m\n\u001b[0;32m     54\u001b[0m graph \u001b[39m=\u001b[39m ast\u001b[39m.\u001b[39mliteral_eval(data_str)\n\u001b[0;32m     55\u001b[0m \u001b[39m# Call the dijkstra function on the graph and the source node \"A\"\u001b[39;00m\n\u001b[1;32m---> 56\u001b[0m distances, previous \u001b[39m=\u001b[39m dijkstra(graph, \u001b[39m\"\u001b[39;49m\u001b[39mB\u001b[39;49m\u001b[39m\"\u001b[39;49m)\n\u001b[0;32m     57\u001b[0m \u001b[39m# Print the best route and its distance\u001b[39;00m\n\u001b[0;32m     58\u001b[0m destination \u001b[39m=\u001b[39m \u001b[39m\"\u001b[39m\u001b[39mF\u001b[39m\u001b[39m\"\u001b[39m  \u001b[39m# Change this to the desired destination\u001b[39;00m\n",
      "Cell \u001b[1;32mIn[2], line 33\u001b[0m, in \u001b[0;36mdijkstra\u001b[1;34m(graph, source)\u001b[0m\n\u001b[0;32m     31\u001b[0m \u001b[39mfor\u001b[39;00m neighbor \u001b[39min\u001b[39;00m graph[current_node]:\n\u001b[0;32m     32\u001b[0m   alternative_route \u001b[39m=\u001b[39m distances[current_node] \u001b[39m+\u001b[39m graph[current_node][neighbor]\n\u001b[1;32m---> 33\u001b[0m   \u001b[39mif\u001b[39;00m alternative_route \u001b[39m<\u001b[39m distances[neighbor]:\n\u001b[0;32m     34\u001b[0m     distances[neighbor] \u001b[39m=\u001b[39m alternative_route\n\u001b[0;32m     35\u001b[0m     previous[neighbor] \u001b[39m=\u001b[39m current_node\n",
      "\u001b[1;31mKeyError\u001b[0m: 'W'"
     ]
    }
   ],
   "source": [
    "import sys\n",
    "import ast\n",
    "\n",
    "import sys\n",
    "import ast\n",
    "\n",
    "def dijkstra(graph, source):\n",
    "  # Initialize distances and previous nodes dictionaries\n",
    "  distances = {node: sys.maxsize for node in graph}\n",
    "  previous = {node: None for node in graph}\n",
    "  # Set the distance to the source node to 0\n",
    "  distances[source] = 0\n",
    "  # Create a set of unvisited nodes\n",
    "  unvisited_nodes = set(graph.keys())\n",
    "  # While there are unvisited nodes\n",
    "  while unvisited_nodes:\n",
    "    # Find the unvisited node with the smallest distance\n",
    "    current_node = None\n",
    "    for node in unvisited_nodes:\n",
    "      if current_node is None:\n",
    "        current_node = node\n",
    "      elif distances[node] < distances[current_node]:\n",
    "        current_node = node\n",
    "    # If the distance to the current node is infinite, there is no path\n",
    "    # and the algorithm can terminate\n",
    "    if distances[current_node] == sys.maxsize:\n",
    "      break\n",
    "    # Remove the current node from the unvisited set\n",
    "    unvisited_nodes.remove(current_node)\n",
    "    # Update the distances to the neighbors of the current node\n",
    "    for neighbor in graph[current_node]:\n",
    "      alternative_route = distances[current_node] + graph[current_node][neighbor]\n",
    "      if alternative_route < distances[neighbor]:\n",
    "        distances[neighbor] = alternative_route\n",
    "        previous[neighbor] = current_node\n",
    "  # Return the distances and previous nodes dictionaries\n",
    "  return distances, previous\n",
    "\n",
    "def main():\n",
    "  # Read the .txt file and parse the string representation of the dictionary\n",
    "  with open(\"city 1.txt\", \"r\") as f:\n",
    "    data = {}\n",
    "  # Read each line in the file\n",
    "    for line in f:\n",
    "      # Split the line into three parts\n",
    "      node1, node2, weight = line.strip().split()\n",
    "      # Add the dictionary entry to the final dictionary\n",
    "      data[node1] = data.get(node1, {})\n",
    "      data[node1][node2] = int(weight)\n",
    "\n",
    "# Convert the dictionary to a string representation\n",
    "  data_str = repr(data)\n",
    "  print(data_str)\n",
    "  graph = ast.literal_eval(data_str)\n",
    "  # Call the dijkstra function on the graph and the source node \"A\"\n",
    "  distances, previous = dijkstra(graph, \"B\")\n",
    "  # Print the best route and its distance\n",
    "  destination = \"F\"  # Change this to the desired destination\n",
    "  route = []\n",
    "  current_node = destination\n",
    "  while previous[current_node] is not None:\n",
    "    route.append(current_node)\n",
    "    current_node = previous[current_node]\n",
    "  route.append(current_node)\n",
    "  route = route[::-1]  # Reverse the route list\n",
    "  print(f\"Best route: {' -> '.join(route)}\")\n",
    "  print(f\"Distance: {distances[destination]}\")\n",
    "\n",
    "\n",
    "\n",
    "if __name__ == \"__main__\":\n",
    "  main()\n"
   ]
  },
  {
   "cell_type": "code",
   "execution_count": 3,
   "metadata": {},
   "outputs": [
    {
     "name": "stdout",
     "output_type": "stream",
     "text": [
      "{'A': {'B': 2, 'E': 2, 'W': 1}, 'B': {'D': 5, 'W': 4, 'C': 2, 'F': 3}, 'C': {'F': 7, 'V': 9}, 'D': {'E': 1, 'J': 7}, 'E': {'K': 3}, 'F': {'L': 2, 'M': 7, 'R': 3, 'Y': 1}, 'G': {'K': 8, 'J': 5, 'H': 2}, 'H': {'I': 4, 'P': 1}, 'I': {'K': 5}, 'J': {'O': 3, 'L': 2}, 'L': {'N': 4}, 'M': {'N': 5, 'Z': 3, 'X': 1}, 'N': {'O': 1}, 'O': {'P': 1}, 'R': {'S': 4}, 'S': {'V': 2}, 'X': {'Z': 2}, 'Y': {'X': 5}, 'Z': {'N': 6}}\n"
     ]
    }
   ],
   "source": [
    "# Open the .txt file and initialize the final dictionary\n",
    "with open(\"city 1.txt\", \"r\") as f:\n",
    "  data = {}\n",
    "  # Read each line in the file\n",
    "  for line in f:\n",
    "    # Split the line into three parts\n",
    "    node1, node2, weight = line.strip().split()\n",
    "    # Add the dictionary entry to the final dictionary\n",
    "    data[node1] = data.get(node1, {})\n",
    "    data[node1][node2] = int(weight)\n",
    "\n",
    "# Convert the dictionary to a string representation\n",
    "data_str = repr(data)\n",
    "print(data_str)"
   ]
  },
  {
   "cell_type": "code",
   "execution_count": 11,
   "metadata": {},
   "outputs": [
    {
     "name": "stdout",
     "output_type": "stream",
     "text": [
      "{'A': {'B': 2, 'E': 2, 'W': 1}, 'B': {'D': 5, 'W': 4, 'C': 2, 'F': 3}, 'C': {'F': 7, 'V': 9}, 'D': {'E': 1, 'J': 7}, 'E': {'K': 3}, 'F': {'L': 2, 'M': 7, 'R': 3, 'Y': 1}, 'G': {'K': 8, 'J': 5, 'H': 2}, 'H': {'I': 4, 'P': 1}, 'I': {'K': 5}, 'J': {'O': 3, 'L': 2}, 'L': {'N': 4}, 'M': {'N': 5, 'Z': 3, 'X': 1}, 'N': {'O': 1}, 'O': {'P': 1}, 'R': {'S': 4}, 'S': {'V': 2}, 'X': {'Z': 2}, 'Y': {'X': 5}, 'Z': {'N': 6}}\n"
     ]
    },
    {
     "ename": "KeyError",
     "evalue": "'W'",
     "output_type": "error",
     "traceback": [
      "\u001b[1;31m---------------------------------------------------------------------------\u001b[0m",
      "\u001b[1;31mKeyError\u001b[0m                                  Traceback (most recent call last)",
      "Cell \u001b[1;32mIn[11], line 79\u001b[0m\n\u001b[0;32m     77\u001b[0m \u001b[39mprint\u001b[39m(graph)\n\u001b[0;32m     78\u001b[0m \u001b[39m# Find the shortest paths from the start vertex 'A' to all other vertices\u001b[39;00m\n\u001b[1;32m---> 79\u001b[0m distances, previous_vertices \u001b[39m=\u001b[39m dijkstra(graph, \u001b[39m'\u001b[39;49m\u001b[39mA\u001b[39;49m\u001b[39m'\u001b[39;49m)\n\u001b[0;32m     81\u001b[0m \u001b[39m# Print the distances\u001b[39;00m\n\u001b[0;32m     82\u001b[0m \u001b[39mprint\u001b[39m(distances)\n",
      "Cell \u001b[1;32mIn[11], line 29\u001b[0m, in \u001b[0;36mdijkstra\u001b[1;34m(graph, start)\u001b[0m\n\u001b[0;32m     27\u001b[0m \u001b[39mfor\u001b[39;00m neighbor, weight \u001b[39min\u001b[39;00m graph[vertex]\u001b[39m.\u001b[39mitems():\n\u001b[0;32m     28\u001b[0m     distance \u001b[39m=\u001b[39m distances[vertex] \u001b[39m+\u001b[39m weight\n\u001b[1;32m---> 29\u001b[0m     \u001b[39mif\u001b[39;00m distance \u001b[39m<\u001b[39m distances[neighbor]:\n\u001b[0;32m     30\u001b[0m         \u001b[39m# Update the distance of the neighbor\u001b[39;00m\n\u001b[0;32m     31\u001b[0m         distances[neighbor] \u001b[39m=\u001b[39m distance\n\u001b[0;32m     32\u001b[0m         \u001b[39m# Add the neighbor to the queue\u001b[39;00m\n",
      "\u001b[1;31mKeyError\u001b[0m: 'W'"
     ]
    }
   ],
   "source": [
    "from typing import List, Dict, Any, Tuple\n",
    "import heapq\n",
    "\n",
    "# Dijkstra's algorithm for finding the shortest path in a graph\n",
    "# from the start vertex to all other vertices\n",
    "def dijkstra(graph: Dict[Any, Dict[Any, int]], start: Any) -> Dict[Any, int]:\n",
    "    # Initialize distances to infinity for all vertices except the start vertex\n",
    "    distances = {vertex: float('inf') for vertex in graph}\n",
    "    distances[start] = 0\n",
    "    \n",
    "    # Initialize the priority queue with the start vertex\n",
    "    queue = [(0, start)]\n",
    "    \n",
    "    # Initialize a dictionary to store the previous vertex for each vertex\n",
    "    previous_vertices = {start: None}\n",
    "    \n",
    "    # While there are vertices in the queue\n",
    "    while queue:\n",
    "        # Pop the vertex with the smallest distance from the queue\n",
    "        distance, vertex = heapq.heappop(queue)\n",
    "        \n",
    "        # If the distance is greater than the current distance, skip it\n",
    "        if distance > distances[vertex]:\n",
    "            continue                            # If the if statement is true then the 'continue' keyword simply returns to the start of the loop\n",
    "        \n",
    "        # Update the distances of the neighbors\n",
    "        for neighbor, weight in graph[vertex].items():\n",
    "            distance = distances[vertex] + weight\n",
    "            if distance < distances[neighbor]:\n",
    "                # Update the distance of the neighbor\n",
    "                distances[neighbor] = distance\n",
    "                # Add the neighbor to the queue\n",
    "                heapq.heappush(queue, (distance, neighbor))\n",
    "                # Update the previous vertex of the neighbor\n",
    "                previous_vertices[neighbor] = vertex\n",
    "    \n",
    "    return distances, previous_vertices\n",
    "\n",
    "# Function to reconstruct the shortest path from the previous vertices dictionary\n",
    "def reconstruct_path(previous_vertices: Dict[Any, Any], start: Any, end: Any) -> List[Any]:\n",
    "    # Initialize the path with the end vertex\n",
    "    path = [end]\n",
    "    \n",
    "    # Get the previous vertex of the end vertex\n",
    "    previous = previous_vertices[end]\n",
    "    \n",
    "    # While the previous vertex is not the start vertex\n",
    "    while previous != start:\n",
    "        # Add the previous vertex to the path\n",
    "        path.append(previous)\n",
    "        # Update the previous vertex\n",
    "        previous = previous_vertices[previous]\n",
    "    \n",
    "    # Add the start vertex to the path\n",
    "    path.append(start)\n",
    "    \n",
    "    # Return the reversed path\n",
    "    return path[::-1]\n",
    "\n",
    "# Example usage:\n",
    "\n",
    "# Define the graph as a dictionary of dictionaries\n",
    "with open(\"city 1.txt\", \"r\") as f:\n",
    "  data = {}\n",
    "  # Read each line in the file\n",
    "  for line in f:\n",
    "    # Split the line into three parts\n",
    "    node1, node2, weight = line.strip().split()\n",
    "    # Add the dictionary entry to the final dictionary\n",
    "    data[node1] = data.get(node1, {})\n",
    "    data[node1][node2] = int(weight)\n",
    "\n",
    "# Convert the dictionary to a string representation\n",
    "data_str = repr(data)\n",
    "\n",
    "graph = ast.literal_eval(data_str)\n",
    "print(graph)\n",
    "# Find the shortest paths from the start vertex 'A' to all other vertices\n",
    "distances, previous_vertices = dijkstra(graph, 'A')\n",
    "\n",
    "# Print the distances\n",
    "print(distances)\n",
    "\n",
    "# Print the shortest path from 'A' to 'F'\n"
   ]
  }
 ],
 "metadata": {
  "kernelspec": {
   "display_name": "test",
   "language": "python",
   "name": "python3"
  },
  "language_info": {
   "codemirror_mode": {
    "name": "ipython",
    "version": 3
   },
   "file_extension": ".py",
   "mimetype": "text/x-python",
   "name": "python",
   "nbconvert_exporter": "python",
   "pygments_lexer": "ipython3",
   "version": "3.10.6"
  },
  "orig_nbformat": 4,
  "vscode": {
   "interpreter": {
    "hash": "030bb7f84c0ecd7058091c295d3ecd7aea35bd3482dc5cfe50df7fa38f6b3655"
   }
  }
 },
 "nbformat": 4,
 "nbformat_minor": 2
}
