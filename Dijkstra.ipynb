{
 "cells": [
  {
   "cell_type": "code",
   "execution_count": 142,
   "metadata": {},
   "outputs": [
    {
     "ename": "SyntaxError",
     "evalue": "incomplete input (3402896729.py, line 6)",
     "output_type": "error",
     "traceback": [
      "\u001b[1;36m  Cell \u001b[1;32mIn[142], line 6\u001b[1;36m\u001b[0m\n\u001b[1;33m    for i, line in enumerate(adjacency_matrix\u001b[0m\n\u001b[1;37m                                             ^\u001b[0m\n\u001b[1;31mSyntaxError\u001b[0m\u001b[1;31m:\u001b[0m incomplete input\n"
     ]
    }
   ],
   "source": [
    "def make_matrix(length):\n",
    "    \n",
    "    # Initialize the matrix\n",
    "    adjacency_matrix = [[0 for _ in range(length)] for _ in range(length)]\n",
    "\n",
    "    for i, line in enumerate(adjacency_matrix\n"
   ]
  },
  {
   "cell_type": "code",
   "execution_count": 143,
   "metadata": {},
   "outputs": [
    {
     "name": "stdout",
     "output_type": "stream",
     "text": [
      "['A', 'B', 'C', 'D', 'E', 'F', 'G', 'H', 'I', 'J', 'K', 'L', 'M', 'N', 'O', 'P', 'R', 'S', 'V', 'W', 'X', 'Y', 'Z']\n",
      "23\n"
     ]
    }
   ],
   "source": [
    "import pandas as pd\n",
    "\n",
    "col_names = ['From City','To City','Distance']\n",
    "file = pd.read_csv(\"city 1.txt\", delimiter=r'\\s+', names=col_names)\n",
    "\n",
    "file = file.to_numpy()\n",
    "city_names = []\n",
    "\n",
    "for i in range(0, len(file)):\n",
    "    if file[i][0] not in city_names:\n",
    "        city_names.append(file[i][0])\n",
    "    if file[i][1] not in city_names:\n",
    "        city_names.append(file[i][1])\n",
    "\n",
    "city_names = sorted(city_names)\n",
    "\n",
    "print(city_names)\n",
    "print(len(city_names))"
   ]
  }
 ],
 "metadata": {
  "kernelspec": {
   "display_name": "test",
   "language": "python",
   "name": "python3"
  },
  "language_info": {
   "codemirror_mode": {
    "name": "ipython",
    "version": 3
   },
   "file_extension": ".py",
   "mimetype": "text/x-python",
   "name": "python",
   "nbconvert_exporter": "python",
   "pygments_lexer": "ipython3",
   "version": "3.10.6"
  },
  "orig_nbformat": 4,
  "vscode": {
   "interpreter": {
    "hash": "030bb7f84c0ecd7058091c295d3ecd7aea35bd3482dc5cfe50df7fa38f6b3655"
   }
  }
 },
 "nbformat": 4,
 "nbformat_minor": 2
}
