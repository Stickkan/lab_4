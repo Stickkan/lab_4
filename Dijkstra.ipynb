{
 "cells": [
  {
   "attachments": {},
   "cell_type": "markdown",
   "metadata": {},
   "source": [
    "Reading the file and creating an adjacency matrix"
   ]
  },
  {
   "cell_type": "code",
   "execution_count": 10,
   "metadata": {},
   "outputs": [
    {
     "name": "stdout",
     "output_type": "stream",
     "text": [
      "[[None, None, None, None, 2, None, None, None, None, None, None, None, None, None, None, None, None, None, None, 1, None, None, None], [None, None, 2, 5, None, 3, None, None, None, None, None, None, None, None, None, None, None, None, None, 4, None, None, None], [None, 2, None, None, None, 7, None, None, None, None, None, None, None, None, None, None, None, None, 9, None, None, None, None], [None, 5, None, None, 1, None, None, None, None, 7, None, None, None, None, None, None, None, None, None, None, None, None, None], [2, None, None, 1, None, None, None, None, None, None, 3, None, None, None, None, None, None, None, None, None, None, None, None], [None, 3, 7, None, None, None, None, None, None, None, None, 2, 7, None, None, None, 3, None, None, None, None, 1, None], [None, None, None, None, None, None, None, 2, None, 5, 8, None, None, None, None, None, None, None, None, None, None, None, None], [None, None, None, None, None, None, 2, None, 4, None, None, None, None, None, None, 1, None, None, None, None, None, None, None], [None, None, None, None, None, None, None, 4, None, None, 5, None, None, None, None, None, None, None, None, None, None, None, None], [None, None, None, 7, None, None, 5, None, None, None, None, 2, None, None, 3, None, None, None, None, None, None, None, None], [None, None, None, None, 3, None, 8, None, 5, None, None, None, None, None, None, None, None, None, None, None, None, None, None], [None, None, None, None, None, 2, None, None, None, 2, None, None, None, 4, None, None, None, None, None, None, None, None, None], [None, None, None, None, None, 7, None, None, None, None, None, None, None, 5, None, None, None, None, None, None, 1, None, 3], [None, None, None, None, None, None, None, None, None, None, None, 4, 5, None, 1, None, None, None, None, None, None, None, 6], [None, None, None, None, None, None, None, None, None, 3, None, None, None, 1, None, 1, None, None, None, None, None, None, None], [None, None, None, None, None, None, None, 1, None, None, None, None, None, None, 1, None, None, None, None, None, None, None, None], [None, None, None, None, None, 3, None, None, None, None, None, None, None, None, None, None, None, 4, None, None, None, None, None], [None, None, None, None, None, None, None, None, None, None, None, None, None, None, None, None, 4, None, 2, None, None, None, None], [None, None, 9, None, None, None, None, None, None, None, None, None, None, None, None, None, None, 2, None, None, None, None, None], [1, 4, None, None, None, None, None, None, None, None, None, None, None, None, None, None, None, None, None, None, None, None, None], [None, None, None, None, None, None, None, None, None, None, None, None, 1, None, None, None, None, None, None, None, None, 5, 2], [None, None, None, None, None, 1, None, None, None, None, None, None, None, None, None, None, None, None, None, None, 5, None, None], [None, None, None, None, None, None, None, None, None, None, None, None, 3, 6, None, None, None, None, None, None, 2, None, None]]\n"
     ]
    }
   ],
   "source": [
    "import pandas as pd\n",
    "\n",
    "col_names = ['From City','To City','Distance']\n",
    "file = pd.read_csv(\"city 1.txt\", delimiter=r'\\s+') #Reading the datafile and specifying the delimiter\n",
    "\n",
    "file = file.to_numpy()  #change the datatype from pandas.dataframe to a numpy array\n",
    "city_names = []         #Create an empty list for the city names\n",
    "\n",
    "#Append the city names to the list, NOTE the not in argument\n",
    "for i in range(0, len(file)):\n",
    "    if file[i][0] not in city_names:\n",
    "        city_names.append(file[i][0])\n",
    "    if file[i][1] not in city_names:\n",
    "        city_names.append(file[i][1])\n",
    "\n",
    "city_names = sorted(city_names) #Sort the city names list\n",
    "\n",
    "city_indices = {city: i for i, city in enumerate(city_names)} #Give every city name am index for future use\n",
    "\n",
    "adj_mat = [[None] * len(city_names) for _ in range(len(city_names))] #Creates an empty matrix of the correct size and sets all the values to None\n",
    "\n",
    "# Where there is a connection change from None to the given distance\n",
    "for row in file:\n",
    "    city1, city2, dist = row\n",
    "    i = city_indices[city1]\n",
    "    j = city_indices[city2]\n",
    "    adj_mat[i][j] = dist\n",
    "    adj_mat[j][i] = dist\n",
    "\n",
    "print(adj_mat)"
   ]
  }
 ],
 "metadata": {
  "kernelspec": {
   "display_name": "test",
   "language": "python",
   "name": "python3"
  },
  "language_info": {
   "codemirror_mode": {
    "name": "ipython",
    "version": 3
   },
   "file_extension": ".py",
   "mimetype": "text/x-python",
   "name": "python",
   "nbconvert_exporter": "python",
   "pygments_lexer": "ipython3",
   "version": "3.10.6"
  },
  "orig_nbformat": 4,
  "vscode": {
   "interpreter": {
    "hash": "030bb7f84c0ecd7058091c295d3ecd7aea35bd3482dc5cfe50df7fa38f6b3655"
   }
  }
 },
 "nbformat": 4,
 "nbformat_minor": 2
}
